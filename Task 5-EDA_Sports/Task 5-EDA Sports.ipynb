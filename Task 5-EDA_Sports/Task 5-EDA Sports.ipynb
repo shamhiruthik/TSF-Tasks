{
  "cells": [
    {
      "cell_type": "markdown",
      "id": "f7cfc80c",
      "metadata": {
        "id": "f7cfc80c"
      },
      "source": [
        "# **Sham Hiruthik - Data Science Intern at The Sparks Foundation**\n",
        "\n",
        "\n",
        "\n",
        "## Task-5 Exploratory Data Analysis - Sports\n",
        "\n",
        "## Perform ‘Exploratory Data Analysis(Advance Level)’ on dataset ‘Indian Premier League’\n",
        "\n",
        "### Dataset : matches.csv (https://bit.ly/34SRn3b)"
      ]
    },
    {
      "cell_type": "code",
      "execution_count": null,
      "id": "d86d2a90",
      "metadata": {
        "id": "d86d2a90"
      },
      "outputs": [],
      "source": [
        "import pandas as pd\n",
        "import numpy as np\n",
        "import matplotlib.pyplot as plt\n",
        "import seaborn as sns\n",
        "%matplotlib inline\n",
        "import warnings\n",
        "warnings.filterwarnings('ignore')"
      ]
    },
    {
      "cell_type": "code",
      "execution_count": null,
      "id": "631391c3",
      "metadata": {
        "id": "631391c3",
        "outputId": "a6a3742b-cd5b-4012-ec5a-23599ed8e920"
      },
      "outputs": [
        {
          "data": {
            "text/html": [
              "<div>\n",
              "<style scoped>\n",
              "    .dataframe tbody tr th:only-of-type {\n",
              "        vertical-align: middle;\n",
              "    }\n",
              "\n",
              "    .dataframe tbody tr th {\n",
              "        vertical-align: top;\n",
              "    }\n",
              "\n",
              "    .dataframe thead th {\n",
              "        text-align: right;\n",
              "    }\n",
              "</style>\n",
              "<table border=\"1\" class=\"dataframe\">\n",
              "  <thead>\n",
              "    <tr style=\"text-align: right;\">\n",
              "      <th></th>\n",
              "      <th>id</th>\n",
              "      <th>season</th>\n",
              "      <th>city</th>\n",
              "      <th>date</th>\n",
              "      <th>team1</th>\n",
              "      <th>team2</th>\n",
              "      <th>toss_winner</th>\n",
              "      <th>toss_decision</th>\n",
              "      <th>result</th>\n",
              "      <th>dl_applied</th>\n",
              "      <th>winner</th>\n",
              "      <th>win_by_runs</th>\n",
              "      <th>win_by_wickets</th>\n",
              "      <th>player_of_match</th>\n",
              "      <th>venue</th>\n",
              "      <th>umpire1</th>\n",
              "      <th>umpire2</th>\n",
              "      <th>umpire3</th>\n",
              "    </tr>\n",
              "  </thead>\n",
              "  <tbody>\n",
              "    <tr>\n",
              "      <th>0</th>\n",
              "      <td>1</td>\n",
              "      <td>2017</td>\n",
              "      <td>Hyderabad</td>\n",
              "      <td>2017-04-05</td>\n",
              "      <td>Sunrisers Hyderabad</td>\n",
              "      <td>Royal Challengers Bangalore</td>\n",
              "      <td>Royal Challengers Bangalore</td>\n",
              "      <td>field</td>\n",
              "      <td>normal</td>\n",
              "      <td>0</td>\n",
              "      <td>Sunrisers Hyderabad</td>\n",
              "      <td>35</td>\n",
              "      <td>0</td>\n",
              "      <td>Yuvraj Singh</td>\n",
              "      <td>Rajiv Gandhi International Stadium, Uppal</td>\n",
              "      <td>AY Dandekar</td>\n",
              "      <td>NJ Llong</td>\n",
              "      <td>NaN</td>\n",
              "    </tr>\n",
              "    <tr>\n",
              "      <th>1</th>\n",
              "      <td>2</td>\n",
              "      <td>2017</td>\n",
              "      <td>Pune</td>\n",
              "      <td>2017-04-06</td>\n",
              "      <td>Mumbai Indians</td>\n",
              "      <td>Rising Pune Supergiant</td>\n",
              "      <td>Rising Pune Supergiant</td>\n",
              "      <td>field</td>\n",
              "      <td>normal</td>\n",
              "      <td>0</td>\n",
              "      <td>Rising Pune Supergiant</td>\n",
              "      <td>0</td>\n",
              "      <td>7</td>\n",
              "      <td>SPD Smith</td>\n",
              "      <td>Maharashtra Cricket Association Stadium</td>\n",
              "      <td>A Nand Kishore</td>\n",
              "      <td>S Ravi</td>\n",
              "      <td>NaN</td>\n",
              "    </tr>\n",
              "    <tr>\n",
              "      <th>2</th>\n",
              "      <td>3</td>\n",
              "      <td>2017</td>\n",
              "      <td>Rajkot</td>\n",
              "      <td>2017-04-07</td>\n",
              "      <td>Gujarat Lions</td>\n",
              "      <td>Kolkata Knight Riders</td>\n",
              "      <td>Kolkata Knight Riders</td>\n",
              "      <td>field</td>\n",
              "      <td>normal</td>\n",
              "      <td>0</td>\n",
              "      <td>Kolkata Knight Riders</td>\n",
              "      <td>0</td>\n",
              "      <td>10</td>\n",
              "      <td>CA Lynn</td>\n",
              "      <td>Saurashtra Cricket Association Stadium</td>\n",
              "      <td>Nitin Menon</td>\n",
              "      <td>CK Nandan</td>\n",
              "      <td>NaN</td>\n",
              "    </tr>\n",
              "    <tr>\n",
              "      <th>3</th>\n",
              "      <td>4</td>\n",
              "      <td>2017</td>\n",
              "      <td>Indore</td>\n",
              "      <td>2017-04-08</td>\n",
              "      <td>Rising Pune Supergiant</td>\n",
              "      <td>Kings XI Punjab</td>\n",
              "      <td>Kings XI Punjab</td>\n",
              "      <td>field</td>\n",
              "      <td>normal</td>\n",
              "      <td>0</td>\n",
              "      <td>Kings XI Punjab</td>\n",
              "      <td>0</td>\n",
              "      <td>6</td>\n",
              "      <td>GJ Maxwell</td>\n",
              "      <td>Holkar Cricket Stadium</td>\n",
              "      <td>AK Chaudhary</td>\n",
              "      <td>C Shamshuddin</td>\n",
              "      <td>NaN</td>\n",
              "    </tr>\n",
              "    <tr>\n",
              "      <th>4</th>\n",
              "      <td>5</td>\n",
              "      <td>2017</td>\n",
              "      <td>Bangalore</td>\n",
              "      <td>2017-04-08</td>\n",
              "      <td>Royal Challengers Bangalore</td>\n",
              "      <td>Delhi Daredevils</td>\n",
              "      <td>Royal Challengers Bangalore</td>\n",
              "      <td>bat</td>\n",
              "      <td>normal</td>\n",
              "      <td>0</td>\n",
              "      <td>Royal Challengers Bangalore</td>\n",
              "      <td>15</td>\n",
              "      <td>0</td>\n",
              "      <td>KM Jadhav</td>\n",
              "      <td>M Chinnaswamy Stadium</td>\n",
              "      <td>NaN</td>\n",
              "      <td>NaN</td>\n",
              "      <td>NaN</td>\n",
              "    </tr>\n",
              "  </tbody>\n",
              "</table>\n",
              "</div>"
            ],
            "text/plain": [
              "   id  season       city        date                        team1  \\\n",
              "0   1    2017  Hyderabad  2017-04-05          Sunrisers Hyderabad   \n",
              "1   2    2017       Pune  2017-04-06               Mumbai Indians   \n",
              "2   3    2017     Rajkot  2017-04-07                Gujarat Lions   \n",
              "3   4    2017     Indore  2017-04-08       Rising Pune Supergiant   \n",
              "4   5    2017  Bangalore  2017-04-08  Royal Challengers Bangalore   \n",
              "\n",
              "                         team2                  toss_winner toss_decision  \\\n",
              "0  Royal Challengers Bangalore  Royal Challengers Bangalore         field   \n",
              "1       Rising Pune Supergiant       Rising Pune Supergiant         field   \n",
              "2        Kolkata Knight Riders        Kolkata Knight Riders         field   \n",
              "3              Kings XI Punjab              Kings XI Punjab         field   \n",
              "4             Delhi Daredevils  Royal Challengers Bangalore           bat   \n",
              "\n",
              "   result  dl_applied                       winner  win_by_runs  \\\n",
              "0  normal           0          Sunrisers Hyderabad           35   \n",
              "1  normal           0       Rising Pune Supergiant            0   \n",
              "2  normal           0        Kolkata Knight Riders            0   \n",
              "3  normal           0              Kings XI Punjab            0   \n",
              "4  normal           0  Royal Challengers Bangalore           15   \n",
              "\n",
              "   win_by_wickets player_of_match                                      venue  \\\n",
              "0               0    Yuvraj Singh  Rajiv Gandhi International Stadium, Uppal   \n",
              "1               7       SPD Smith    Maharashtra Cricket Association Stadium   \n",
              "2              10         CA Lynn     Saurashtra Cricket Association Stadium   \n",
              "3               6      GJ Maxwell                     Holkar Cricket Stadium   \n",
              "4               0       KM Jadhav                      M Chinnaswamy Stadium   \n",
              "\n",
              "          umpire1        umpire2 umpire3  \n",
              "0     AY Dandekar       NJ Llong     NaN  \n",
              "1  A Nand Kishore         S Ravi     NaN  \n",
              "2     Nitin Menon      CK Nandan     NaN  \n",
              "3    AK Chaudhary  C Shamshuddin     NaN  \n",
              "4             NaN            NaN     NaN  "
            ]
          },
          "execution_count": 10,
          "metadata": {},
          "output_type": "execute_result"
        }
      ],
      "source": [
        "data = pd.read_csv(\"matches.csv\")\n",
        "data.head()"
      ]
    },
    {
      "cell_type": "code",
      "execution_count": null,
      "id": "d2c3abb5",
      "metadata": {
        "id": "d2c3abb5",
        "outputId": "c41c78d2-06e6-4f76-85b1-576214dc47bb"
      },
      "outputs": [
        {
          "data": {
            "text/html": [
              "<div>\n",
              "<style scoped>\n",
              "    .dataframe tbody tr th:only-of-type {\n",
              "        vertical-align: middle;\n",
              "    }\n",
              "\n",
              "    .dataframe tbody tr th {\n",
              "        vertical-align: top;\n",
              "    }\n",
              "\n",
              "    .dataframe thead th {\n",
              "        text-align: right;\n",
              "    }\n",
              "</style>\n",
              "<table border=\"1\" class=\"dataframe\">\n",
              "  <thead>\n",
              "    <tr style=\"text-align: right;\">\n",
              "      <th></th>\n",
              "      <th>match_id</th>\n",
              "      <th>inning</th>\n",
              "      <th>batting_team</th>\n",
              "      <th>bowling_team</th>\n",
              "      <th>over</th>\n",
              "      <th>ball</th>\n",
              "      <th>batsman</th>\n",
              "      <th>non_striker</th>\n",
              "      <th>bowler</th>\n",
              "      <th>is_super_over</th>\n",
              "      <th>...</th>\n",
              "      <th>bye_runs</th>\n",
              "      <th>legbye_runs</th>\n",
              "      <th>noball_runs</th>\n",
              "      <th>penalty_runs</th>\n",
              "      <th>batsman_runs</th>\n",
              "      <th>extra_runs</th>\n",
              "      <th>total_runs</th>\n",
              "      <th>player_dismissed</th>\n",
              "      <th>dismissal_kind</th>\n",
              "      <th>fielder</th>\n",
              "    </tr>\n",
              "  </thead>\n",
              "  <tbody>\n",
              "    <tr>\n",
              "      <th>0</th>\n",
              "      <td>1</td>\n",
              "      <td>1</td>\n",
              "      <td>Sunrisers Hyderabad</td>\n",
              "      <td>Royal Challengers Bangalore</td>\n",
              "      <td>1</td>\n",
              "      <td>1</td>\n",
              "      <td>DA Warner</td>\n",
              "      <td>S Dhawan</td>\n",
              "      <td>TS Mills</td>\n",
              "      <td>0</td>\n",
              "      <td>...</td>\n",
              "      <td>0</td>\n",
              "      <td>0</td>\n",
              "      <td>0</td>\n",
              "      <td>0</td>\n",
              "      <td>0</td>\n",
              "      <td>0</td>\n",
              "      <td>0</td>\n",
              "      <td>NaN</td>\n",
              "      <td>NaN</td>\n",
              "      <td>NaN</td>\n",
              "    </tr>\n",
              "    <tr>\n",
              "      <th>1</th>\n",
              "      <td>1</td>\n",
              "      <td>1</td>\n",
              "      <td>Sunrisers Hyderabad</td>\n",
              "      <td>Royal Challengers Bangalore</td>\n",
              "      <td>1</td>\n",
              "      <td>2</td>\n",
              "      <td>DA Warner</td>\n",
              "      <td>S Dhawan</td>\n",
              "      <td>TS Mills</td>\n",
              "      <td>0</td>\n",
              "      <td>...</td>\n",
              "      <td>0</td>\n",
              "      <td>0</td>\n",
              "      <td>0</td>\n",
              "      <td>0</td>\n",
              "      <td>0</td>\n",
              "      <td>0</td>\n",
              "      <td>0</td>\n",
              "      <td>NaN</td>\n",
              "      <td>NaN</td>\n",
              "      <td>NaN</td>\n",
              "    </tr>\n",
              "    <tr>\n",
              "      <th>2</th>\n",
              "      <td>1</td>\n",
              "      <td>1</td>\n",
              "      <td>Sunrisers Hyderabad</td>\n",
              "      <td>Royal Challengers Bangalore</td>\n",
              "      <td>1</td>\n",
              "      <td>3</td>\n",
              "      <td>DA Warner</td>\n",
              "      <td>S Dhawan</td>\n",
              "      <td>TS Mills</td>\n",
              "      <td>0</td>\n",
              "      <td>...</td>\n",
              "      <td>0</td>\n",
              "      <td>0</td>\n",
              "      <td>0</td>\n",
              "      <td>0</td>\n",
              "      <td>4</td>\n",
              "      <td>0</td>\n",
              "      <td>4</td>\n",
              "      <td>NaN</td>\n",
              "      <td>NaN</td>\n",
              "      <td>NaN</td>\n",
              "    </tr>\n",
              "    <tr>\n",
              "      <th>3</th>\n",
              "      <td>1</td>\n",
              "      <td>1</td>\n",
              "      <td>Sunrisers Hyderabad</td>\n",
              "      <td>Royal Challengers Bangalore</td>\n",
              "      <td>1</td>\n",
              "      <td>4</td>\n",
              "      <td>DA Warner</td>\n",
              "      <td>S Dhawan</td>\n",
              "      <td>TS Mills</td>\n",
              "      <td>0</td>\n",
              "      <td>...</td>\n",
              "      <td>0</td>\n",
              "      <td>0</td>\n",
              "      <td>0</td>\n",
              "      <td>0</td>\n",
              "      <td>0</td>\n",
              "      <td>0</td>\n",
              "      <td>0</td>\n",
              "      <td>NaN</td>\n",
              "      <td>NaN</td>\n",
              "      <td>NaN</td>\n",
              "    </tr>\n",
              "    <tr>\n",
              "      <th>4</th>\n",
              "      <td>1</td>\n",
              "      <td>1</td>\n",
              "      <td>Sunrisers Hyderabad</td>\n",
              "      <td>Royal Challengers Bangalore</td>\n",
              "      <td>1</td>\n",
              "      <td>5</td>\n",
              "      <td>DA Warner</td>\n",
              "      <td>S Dhawan</td>\n",
              "      <td>TS Mills</td>\n",
              "      <td>0</td>\n",
              "      <td>...</td>\n",
              "      <td>0</td>\n",
              "      <td>0</td>\n",
              "      <td>0</td>\n",
              "      <td>0</td>\n",
              "      <td>0</td>\n",
              "      <td>2</td>\n",
              "      <td>2</td>\n",
              "      <td>NaN</td>\n",
              "      <td>NaN</td>\n",
              "      <td>NaN</td>\n",
              "    </tr>\n",
              "  </tbody>\n",
              "</table>\n",
              "<p>5 rows × 21 columns</p>\n",
              "</div>"
            ],
            "text/plain": [
              "   match_id  inning         batting_team                 bowling_team  over  \\\n",
              "0         1       1  Sunrisers Hyderabad  Royal Challengers Bangalore     1   \n",
              "1         1       1  Sunrisers Hyderabad  Royal Challengers Bangalore     1   \n",
              "2         1       1  Sunrisers Hyderabad  Royal Challengers Bangalore     1   \n",
              "3         1       1  Sunrisers Hyderabad  Royal Challengers Bangalore     1   \n",
              "4         1       1  Sunrisers Hyderabad  Royal Challengers Bangalore     1   \n",
              "\n",
              "   ball    batsman non_striker    bowler  is_super_over  ...  bye_runs  \\\n",
              "0     1  DA Warner    S Dhawan  TS Mills              0  ...         0   \n",
              "1     2  DA Warner    S Dhawan  TS Mills              0  ...         0   \n",
              "2     3  DA Warner    S Dhawan  TS Mills              0  ...         0   \n",
              "3     4  DA Warner    S Dhawan  TS Mills              0  ...         0   \n",
              "4     5  DA Warner    S Dhawan  TS Mills              0  ...         0   \n",
              "\n",
              "   legbye_runs  noball_runs  penalty_runs  batsman_runs  extra_runs  \\\n",
              "0            0            0             0             0           0   \n",
              "1            0            0             0             0           0   \n",
              "2            0            0             0             4           0   \n",
              "3            0            0             0             0           0   \n",
              "4            0            0             0             0           2   \n",
              "\n",
              "   total_runs  player_dismissed dismissal_kind fielder  \n",
              "0           0               NaN            NaN     NaN  \n",
              "1           0               NaN            NaN     NaN  \n",
              "2           4               NaN            NaN     NaN  \n",
              "3           0               NaN            NaN     NaN  \n",
              "4           2               NaN            NaN     NaN  \n",
              "\n",
              "[5 rows x 21 columns]"
            ]
          },
          "execution_count": 11,
          "metadata": {},
          "output_type": "execute_result"
        }
      ],
      "source": [
        "Data = pd.read_csv(\"deliveries.csv\")\n",
        "Data.head()"
      ]
    },
    {
      "cell_type": "code",
      "execution_count": null,
      "id": "4843f9f7",
      "metadata": {
        "id": "4843f9f7"
      },
      "outputs": [],
      "source": [
        "season_data=data[['id','season','winner']]\n",
        "complete_data=Data.merge(season_data,how='inner',left_on='match_id',right_on='id')"
      ]
    },
    {
      "cell_type": "code",
      "execution_count": null,
      "id": "928fcae5",
      "metadata": {
        "id": "928fcae5",
        "outputId": "0c425f29-6ccb-42da-c5e4-a02986e66b22"
      },
      "outputs": [
        {
          "data": {
            "text/plain": [
              "array(['id', 'season', 'city', 'date', 'team1', 'team2', 'toss_winner',\n",
              "       'toss_decision', 'result', 'dl_applied', 'winner', 'win_by_runs',\n",
              "       'win_by_wickets', 'player_of_match', 'venue', 'umpire1', 'umpire2',\n",
              "       'umpire3'], dtype=object)"
            ]
          },
          "execution_count": 13,
          "metadata": {},
          "output_type": "execute_result"
        }
      ],
      "source": [
        "data.columns.values"
      ]
    },
    {
      "cell_type": "code",
      "execution_count": null,
      "id": "dc9a2399",
      "metadata": {
        "id": "dc9a2399",
        "outputId": "2f526d5c-e10a-4298-9d54-e545e59edef9"
      },
      "outputs": [
        {
          "data": {
            "text/html": [
              "<div>\n",
              "<style scoped>\n",
              "    .dataframe tbody tr th:only-of-type {\n",
              "        vertical-align: middle;\n",
              "    }\n",
              "\n",
              "    .dataframe tbody tr th {\n",
              "        vertical-align: top;\n",
              "    }\n",
              "\n",
              "    .dataframe thead th {\n",
              "        text-align: right;\n",
              "    }\n",
              "</style>\n",
              "<table border=\"1\" class=\"dataframe\">\n",
              "  <thead>\n",
              "    <tr style=\"text-align: right;\">\n",
              "      <th></th>\n",
              "      <th>id</th>\n",
              "      <th>season</th>\n",
              "      <th>city</th>\n",
              "      <th>date</th>\n",
              "      <th>team1</th>\n",
              "      <th>team2</th>\n",
              "      <th>toss_winner</th>\n",
              "      <th>toss_decision</th>\n",
              "      <th>result</th>\n",
              "      <th>dl_applied</th>\n",
              "      <th>winner</th>\n",
              "      <th>win_by_runs</th>\n",
              "      <th>win_by_wickets</th>\n",
              "      <th>player_of_match</th>\n",
              "      <th>venue</th>\n",
              "      <th>umpire1</th>\n",
              "      <th>umpire2</th>\n",
              "    </tr>\n",
              "  </thead>\n",
              "  <tbody>\n",
              "    <tr>\n",
              "      <th>0</th>\n",
              "      <td>1</td>\n",
              "      <td>2017</td>\n",
              "      <td>Hyderabad</td>\n",
              "      <td>2017-04-05</td>\n",
              "      <td>Sunrisers Hyderabad</td>\n",
              "      <td>Royal Challengers Bangalore</td>\n",
              "      <td>Royal Challengers Bangalore</td>\n",
              "      <td>field</td>\n",
              "      <td>normal</td>\n",
              "      <td>0</td>\n",
              "      <td>Sunrisers Hyderabad</td>\n",
              "      <td>35</td>\n",
              "      <td>0</td>\n",
              "      <td>Yuvraj Singh</td>\n",
              "      <td>Rajiv Gandhi International Stadium, Uppal</td>\n",
              "      <td>AY Dandekar</td>\n",
              "      <td>NJ Llong</td>\n",
              "    </tr>\n",
              "    <tr>\n",
              "      <th>1</th>\n",
              "      <td>2</td>\n",
              "      <td>2017</td>\n",
              "      <td>Pune</td>\n",
              "      <td>2017-04-06</td>\n",
              "      <td>Mumbai Indians</td>\n",
              "      <td>Rising Pune Supergiant</td>\n",
              "      <td>Rising Pune Supergiant</td>\n",
              "      <td>field</td>\n",
              "      <td>normal</td>\n",
              "      <td>0</td>\n",
              "      <td>Rising Pune Supergiant</td>\n",
              "      <td>0</td>\n",
              "      <td>7</td>\n",
              "      <td>SPD Smith</td>\n",
              "      <td>Maharashtra Cricket Association Stadium</td>\n",
              "      <td>A Nand Kishore</td>\n",
              "      <td>S Ravi</td>\n",
              "    </tr>\n",
              "    <tr>\n",
              "      <th>2</th>\n",
              "      <td>3</td>\n",
              "      <td>2017</td>\n",
              "      <td>Rajkot</td>\n",
              "      <td>2017-04-07</td>\n",
              "      <td>Gujarat Lions</td>\n",
              "      <td>Kolkata Knight Riders</td>\n",
              "      <td>Kolkata Knight Riders</td>\n",
              "      <td>field</td>\n",
              "      <td>normal</td>\n",
              "      <td>0</td>\n",
              "      <td>Kolkata Knight Riders</td>\n",
              "      <td>0</td>\n",
              "      <td>10</td>\n",
              "      <td>CA Lynn</td>\n",
              "      <td>Saurashtra Cricket Association Stadium</td>\n",
              "      <td>Nitin Menon</td>\n",
              "      <td>CK Nandan</td>\n",
              "    </tr>\n",
              "    <tr>\n",
              "      <th>3</th>\n",
              "      <td>4</td>\n",
              "      <td>2017</td>\n",
              "      <td>Indore</td>\n",
              "      <td>2017-04-08</td>\n",
              "      <td>Rising Pune Supergiant</td>\n",
              "      <td>Kings XI Punjab</td>\n",
              "      <td>Kings XI Punjab</td>\n",
              "      <td>field</td>\n",
              "      <td>normal</td>\n",
              "      <td>0</td>\n",
              "      <td>Kings XI Punjab</td>\n",
              "      <td>0</td>\n",
              "      <td>6</td>\n",
              "      <td>GJ Maxwell</td>\n",
              "      <td>Holkar Cricket Stadium</td>\n",
              "      <td>AK Chaudhary</td>\n",
              "      <td>C Shamshuddin</td>\n",
              "    </tr>\n",
              "    <tr>\n",
              "      <th>4</th>\n",
              "      <td>5</td>\n",
              "      <td>2017</td>\n",
              "      <td>Bangalore</td>\n",
              "      <td>2017-04-08</td>\n",
              "      <td>Royal Challengers Bangalore</td>\n",
              "      <td>Delhi Daredevils</td>\n",
              "      <td>Royal Challengers Bangalore</td>\n",
              "      <td>bat</td>\n",
              "      <td>normal</td>\n",
              "      <td>0</td>\n",
              "      <td>Royal Challengers Bangalore</td>\n",
              "      <td>15</td>\n",
              "      <td>0</td>\n",
              "      <td>KM Jadhav</td>\n",
              "      <td>M Chinnaswamy Stadium</td>\n",
              "      <td>NaN</td>\n",
              "      <td>NaN</td>\n",
              "    </tr>\n",
              "  </tbody>\n",
              "</table>\n",
              "</div>"
            ],
            "text/plain": [
              "   id  season       city        date                        team1  \\\n",
              "0   1    2017  Hyderabad  2017-04-05          Sunrisers Hyderabad   \n",
              "1   2    2017       Pune  2017-04-06               Mumbai Indians   \n",
              "2   3    2017     Rajkot  2017-04-07                Gujarat Lions   \n",
              "3   4    2017     Indore  2017-04-08       Rising Pune Supergiant   \n",
              "4   5    2017  Bangalore  2017-04-08  Royal Challengers Bangalore   \n",
              "\n",
              "                         team2                  toss_winner toss_decision  \\\n",
              "0  Royal Challengers Bangalore  Royal Challengers Bangalore         field   \n",
              "1       Rising Pune Supergiant       Rising Pune Supergiant         field   \n",
              "2        Kolkata Knight Riders        Kolkata Knight Riders         field   \n",
              "3              Kings XI Punjab              Kings XI Punjab         field   \n",
              "4             Delhi Daredevils  Royal Challengers Bangalore           bat   \n",
              "\n",
              "   result  dl_applied                       winner  win_by_runs  \\\n",
              "0  normal           0          Sunrisers Hyderabad           35   \n",
              "1  normal           0       Rising Pune Supergiant            0   \n",
              "2  normal           0        Kolkata Knight Riders            0   \n",
              "3  normal           0              Kings XI Punjab            0   \n",
              "4  normal           0  Royal Challengers Bangalore           15   \n",
              "\n",
              "   win_by_wickets player_of_match                                      venue  \\\n",
              "0               0    Yuvraj Singh  Rajiv Gandhi International Stadium, Uppal   \n",
              "1               7       SPD Smith    Maharashtra Cricket Association Stadium   \n",
              "2              10         CA Lynn     Saurashtra Cricket Association Stadium   \n",
              "3               6      GJ Maxwell                     Holkar Cricket Stadium   \n",
              "4               0       KM Jadhav                      M Chinnaswamy Stadium   \n",
              "\n",
              "          umpire1        umpire2  \n",
              "0     AY Dandekar       NJ Llong  \n",
              "1  A Nand Kishore         S Ravi  \n",
              "2     Nitin Menon      CK Nandan  \n",
              "3    AK Chaudhary  C Shamshuddin  \n",
              "4             NaN            NaN  "
            ]
          },
          "execution_count": 14,
          "metadata": {},
          "output_type": "execute_result"
        }
      ],
      "source": [
        "data = data.drop(columns=[\"umpire3\"],axis=1)\n",
        "data.head()"
      ]
    },
    {
      "cell_type": "code",
      "execution_count": null,
      "id": "1793b071",
      "metadata": {
        "id": "1793b071",
        "outputId": "6b4148aa-2e89-4d6d-fccb-4033538d2741"
      },
      "outputs": [
        {
          "data": {
            "text/plain": [
              "season  winner                     \n",
              "2008    Rajasthan Royals               13\n",
              "        Kings XI Punjab                10\n",
              "        Chennai Super Kings             9\n",
              "        Delhi Daredevils                7\n",
              "        Mumbai Indians                  7\n",
              "                                       ..\n",
              "2019    Kings XI Punjab                 6\n",
              "        Kolkata Knight Riders           6\n",
              "        Sunrisers Hyderabad             6\n",
              "        Rajasthan Royals                5\n",
              "        Royal Challengers Bangalore     5\n",
              "Name: winner, Length: 100, dtype: int64"
            ]
          },
          "execution_count": 15,
          "metadata": {},
          "output_type": "execute_result"
        }
      ],
      "source": [
        "wins_per_season = data.groupby(\"season\")[\"winner\"].value_counts()\n",
        "wins_per_season"
      ]
    },
    {
      "cell_type": "code",
      "execution_count": null,
      "id": "5baac6b1",
      "metadata": {
        "id": "5baac6b1",
        "outputId": "0608b6c8-46bd-4193-bd8e-c1e70bbc5d02"
      },
      "outputs": [
        {
          "data": {
            "image/png": "[encoded data removed]",
            "text/plain": [
              "<Figure size 1296x720 with 1 Axes>"
            ]
          },
          "metadata": {
            "needs_background": "light"
          },
          "output_type": "display_data"
        }
      ],
      "source": [
        "plt.figure(figsize = (18,10))\n",
        "sns.countplot('season',data=data,palette=\"Blues\")\n",
        "plt.title(\"Number of Matches played in each IPL season\",fontsize=25)\n",
        "plt.xlabel(\"season\",fontsize=20)\n",
        "plt.ylabel('Matches',fontsize=20)\n",
        "plt.show()"
      ]
    },
    {
      "cell_type": "code",
      "execution_count": null,
      "id": "818bc7c1",
      "metadata": {
        "id": "818bc7c1",
        "outputId": "a2eb6da2-dcb3-4b2d-e3a5-08b0d440bf8e"
      },
      "outputs": [
        {
          "data": {
            "image/png": "[encoded data removed]",
            "text/plain": [
              "<Figure size 1296x720 with 1 Axes>"
            ]
          },
          "metadata": {
            "needs_background": "light"
          },
          "output_type": "display_data"
        }
      ],
      "source": [
        "plt.figure(figsize = (18,10))\n",
        "sns.countplot(x='winner',data=data, palette='Blues')\n",
        "plt.title(\"Numbers of matches won by team \",fontsize=20)\n",
        "plt.xticks(rotation=50)\n",
        "plt.xlabel(\"Teams\",fontsize=15)\n",
        "plt.ylabel(\"No of wins\",fontsize=15)\n",
        "plt.show()"
      ]
    },
    {
      "cell_type": "code",
      "execution_count": null,
      "id": "cc1746c6",
      "metadata": {
        "id": "cc1746c6"
      },
      "outputs": [],
      "source": [
        "data['win_by']=np.where(data['win_by_runs']>0,'Bat first','Bowl first')"
      ]
    },
    {
      "cell_type": "code",
      "execution_count": null,
      "id": "4034b1dd",
      "metadata": {
        "id": "4034b1dd",
        "outputId": "e7004f5e-28af-4c0a-a84b-8898d5a30ec2"
      },
      "outputs": [
        {
          "data": {
            "image/png": "[encoded data removed]",
            "text/plain": [
              "<Figure size 720x576 with 1 Axes>"
            ]
          },
          "metadata": {},
          "output_type": "display_data"
        }
      ],
      "source": [
        "Win=data.win_by.value_counts()\n",
        "labels=np.array(Win.index)\n",
        "sizes = Win.values\n",
        "colors = ['#ffe6e6','#cceeff']\n",
        "plt.figure(figsize = (10,8))\n",
        "plt.pie(sizes, labels=labels, colors=colors,autopct='%1.1f%%', shadow=True,startangle=90)\n",
        "plt.title('Match Result',fontsize=20)\n",
        "plt.axis('equal')\n",
        "plt.show()"
      ]
    },
    {
      "cell_type": "code",
      "execution_count": null,
      "id": "ffdb2e22",
      "metadata": {
        "id": "ffdb2e22",
        "outputId": "bad615f2-3123-4bef-c405-814b58e20068"
      },
      "outputs": [
        {
          "data": {
            "image/png": "[encoded data removed]",
            "text/plain": [
              "<Figure size 1296x720 with 1 Axes>"
            ]
          },
          "metadata": {
            "needs_background": "light"
          },
          "output_type": "display_data"
        }
      ],
      "source": [
        "plt.figure(figsize = (18,10))\n",
        "sns.countplot('season',hue='win_by',data=data,palette='vlag')\n",
        "plt.title(\"Numbers of matches won by batting and bowling first \",fontsize=20)\n",
        "plt.xlabel(\"Season\",fontsize=15)\n",
        "plt.ylabel(\"Count\",fontsize=15)\n",
        "plt.show()"
      ]
    },
    {
      "cell_type": "code",
      "execution_count": null,
      "id": "65e03ebc",
      "metadata": {
        "id": "65e03ebc",
        "outputId": "2833d87f-e1d3-48d4-99db-9771e5cc427c"
      },
      "outputs": [
        {
          "data": {
            "image/png": "[encoded data removed]",
            "text/plain": [
              "<Figure size 720x576 with 1 Axes>"
            ]
          },
          "metadata": {},
          "output_type": "display_data"
        }
      ],
      "source": [
        "# we will plot pie chart on Toss decision\n",
        "Toss=data.toss_decision.value_counts()\n",
        "labels=np.array(Toss.index)\n",
        "sizes = Toss.values\n",
        "colors = ['#cceeff','#ffe6e6']\n",
        "plt.figure(figsize = (10,8))\n",
        "plt.pie(sizes, labels=labels, colors=colors,autopct='%1.1f%%', shadow=True,startangle=90)\n",
        "plt.title('Toss result',fontsize=20)\n",
        "plt.axis('equal')\n",
        "plt.show()"
      ]
    },
    {
      "cell_type": "code",
      "execution_count": null,
      "id": "9fc058a5",
      "metadata": {
        "id": "9fc058a5",
        "outputId": "68466662-8d6e-4b82-e25a-3850598d4dd1"
      },
      "outputs": [
        {
          "data": {
            "image/png": "[encoded data removed]",
            "text/plain": [
              "<Figure size 1296x720 with 1 Axes>"
            ]
          },
          "metadata": {
            "needs_background": "light"
          },
          "output_type": "display_data"
        }
      ],
      "source": [
        "# we will plot graph on Numbers of matches won by Toss result\n",
        "plt.figure(figsize = (18,10))\n",
        "sns.countplot('season',hue='toss_decision',data=data,palette='vlag')\n",
        "plt.title(\"Numbers of matches won by Toss result \",fontsize=20)\n",
        "plt.xlabel(\"Season\",fontsize=15)\n",
        "plt.ylabel(\"Count\",fontsize=15)\n",
        "plt.show()"
      ]
    },
    {
      "cell_type": "code",
      "execution_count": null,
      "id": "0e62fb44",
      "metadata": {
        "id": "0e62fb44",
        "outputId": "3fba146a-29b1-4eb5-a6ef-c6d74e7b83cc"
      },
      "outputs": [
        {
          "data": {
            "text/html": [
              "<div>\n",
              "<style scoped>\n",
              "    .dataframe tbody tr th:only-of-type {\n",
              "        vertical-align: middle;\n",
              "    }\n",
              "\n",
              "    .dataframe tbody tr th {\n",
              "        vertical-align: top;\n",
              "    }\n",
              "\n",
              "    .dataframe thead th {\n",
              "        text-align: right;\n",
              "    }\n",
              "</style>\n",
              "<table border=\"1\" class=\"dataframe\">\n",
              "  <thead>\n",
              "    <tr style=\"text-align: right;\">\n",
              "      <th></th>\n",
              "      <th>season</th>\n",
              "      <th>winner</th>\n",
              "    </tr>\n",
              "  </thead>\n",
              "  <tbody>\n",
              "    <tr>\n",
              "      <th>1</th>\n",
              "      <td>2008</td>\n",
              "      <td>Rajasthan Royals</td>\n",
              "    </tr>\n",
              "    <tr>\n",
              "      <th>2</th>\n",
              "      <td>2009</td>\n",
              "      <td>Deccan Chargers</td>\n",
              "    </tr>\n",
              "    <tr>\n",
              "      <th>3</th>\n",
              "      <td>2010</td>\n",
              "      <td>Chennai Super Kings</td>\n",
              "    </tr>\n",
              "    <tr>\n",
              "      <th>4</th>\n",
              "      <td>2011</td>\n",
              "      <td>Chennai Super Kings</td>\n",
              "    </tr>\n",
              "    <tr>\n",
              "      <th>5</th>\n",
              "      <td>2012</td>\n",
              "      <td>Kolkata Knight Riders</td>\n",
              "    </tr>\n",
              "    <tr>\n",
              "      <th>6</th>\n",
              "      <td>2013</td>\n",
              "      <td>Mumbai Indians</td>\n",
              "    </tr>\n",
              "    <tr>\n",
              "      <th>7</th>\n",
              "      <td>2014</td>\n",
              "      <td>Kolkata Knight Riders</td>\n",
              "    </tr>\n",
              "    <tr>\n",
              "      <th>8</th>\n",
              "      <td>2015</td>\n",
              "      <td>Mumbai Indians</td>\n",
              "    </tr>\n",
              "    <tr>\n",
              "      <th>9</th>\n",
              "      <td>2016</td>\n",
              "      <td>Sunrisers Hyderabad</td>\n",
              "    </tr>\n",
              "    <tr>\n",
              "      <th>0</th>\n",
              "      <td>2017</td>\n",
              "      <td>Mumbai Indians</td>\n",
              "    </tr>\n",
              "    <tr>\n",
              "      <th>10</th>\n",
              "      <td>2018</td>\n",
              "      <td>Chennai Super Kings</td>\n",
              "    </tr>\n",
              "    <tr>\n",
              "      <th>11</th>\n",
              "      <td>2019</td>\n",
              "      <td>Mumbai Indians</td>\n",
              "    </tr>\n",
              "  </tbody>\n",
              "</table>\n",
              "</div>"
            ],
            "text/plain": [
              "    season                 winner\n",
              "1     2008       Rajasthan Royals\n",
              "2     2009        Deccan Chargers\n",
              "3     2010    Chennai Super Kings\n",
              "4     2011    Chennai Super Kings\n",
              "5     2012  Kolkata Knight Riders\n",
              "6     2013         Mumbai Indians\n",
              "7     2014  Kolkata Knight Riders\n",
              "8     2015         Mumbai Indians\n",
              "9     2016    Sunrisers Hyderabad\n",
              "0     2017         Mumbai Indians\n",
              "10    2018    Chennai Super Kings\n",
              "11    2019         Mumbai Indians"
            ]
          },
          "execution_count": 24,
          "metadata": {},
          "output_type": "execute_result"
        }
      ],
      "source": [
        "final_matches=data.drop_duplicates(subset=['season'], keep='last')\n",
        "final_matches[['season','winner']].reset_index(drop=True).sort_values('season')"
      ]
    },
    {
      "cell_type": "code",
      "execution_count": null,
      "id": "ef9acce8",
      "metadata": {
        "id": "ef9acce8",
        "outputId": "55776b7c-e816-422c-9bfc-636485c7228b"
      },
      "outputs": [
        {
          "data": {
            "image/png": "[encoded data removed]",
            "text/plain": [
              "<Figure size 720x576 with 1 Axes>"
            ]
          },
          "metadata": {},
          "output_type": "display_data"
        }
      ],
      "source": [
        "# we will plot pie chart on Winning percentage in final\n",
        "match = final_matches.win_by.value_counts()\n",
        "labels=np.array(Toss.index)\n",
        "sizes = match.values\n",
        "colors = ['#cceeff','#ffe6e6']\n",
        "plt.figure(figsize = (10,8))\n",
        "plt.pie(sizes, labels=labels, colors=colors,autopct='%1.1f%%', shadow=True,startangle=90)\n",
        "plt.title('Match Result',fontsize=20)\n",
        "plt.axis('equal')\n",
        "plt.show()"
      ]
    },
    {
      "cell_type": "code",
      "execution_count": null,
      "id": "1a32f2ab",
      "metadata": {
        "id": "1a32f2ab",
        "outputId": "c765ed0b-1da9-4ff4-a7a0-0e6ce417d1e9"
      },
      "outputs": [
        {
          "data": {
            "image/png": "[encoded data removed]",
            "text/plain": [
              "<Figure size 720x576 with 1 Axes>"
            ]
          },
          "metadata": {},
          "output_type": "display_data"
        }
      ],
      "source": [
        "Toss=final_matches.toss_decision.value_counts()\n",
        "labels=np.array(Toss.index)\n",
        "sizes = Toss.values\n",
        "colors = ['#cceeff','#ffe6e6']\n",
        "plt.figure(figsize = (10,8))\n",
        "plt.pie(sizes, labels=labels, colors=colors,\n",
        "        autopct='%1.1f%%', shadow=True,startangle=90)\n",
        "plt.title('Toss Result',fontsize=20)\n",
        "plt.axis('equal')\n",
        "plt.show()"
      ]
    },
    {
      "cell_type": "code",
      "execution_count": null,
      "id": "f14c015a",
      "metadata": {
        "id": "f14c015a",
        "outputId": "52223cb2-ce80-4cfc-e460-c59642bd36d4"
      },
      "outputs": [
        {
          "data": {
            "text/plain": [
              "<Figure size 1296x720 with 0 Axes>"
            ]
          },
          "metadata": {},
          "output_type": "display_data"
        },
        {
          "data": {
            "image/png": "[encoded data removed]",
            "text/plain": [
              "<Figure size 432x288 with 1 Axes>"
            ]
          },
          "metadata": {
            "needs_background": "light"
          },
          "output_type": "display_data"
        }
      ],
      "source": [
        "#name of top player in IPL\n",
        "plt.figure(figsize = (18,10))\n",
        "top_players = data.player_of_match.value_counts()[:10]\n",
        "fig, ax = plt.subplots()\n",
        "ax.set_ylim([0,20])\n",
        "ax.set_ylabel(\"Count\")\n",
        "ax.set_title(\"Top player of the match Winners\")\n",
        "top_players.plot.bar()\n",
        "sns.barplot(x = top_players.index, y = top_players, orient='v', palette=\"Blues\");\n",
        "plt.show()"
      ]
    },
    {
      "cell_type": "code",
      "execution_count": null,
      "id": "d83f4597",
      "metadata": {
        "id": "d83f4597",
        "outputId": "824a6adc-c892-46c7-895c-a7de0b210870"
      },
      "outputs": [
        {
          "data": {
            "text/plain": [
              "city          winner               \n",
              "Bangalore     Kolkata Knight Riders    1\n",
              "              Sunrisers Hyderabad      1\n",
              "Chennai       Chennai Super Kings      1\n",
              "              Kolkata Knight Riders    1\n",
              "Hyderabad     Mumbai Indians           2\n",
              "Johannesburg  Deccan Chargers          1\n",
              "Kolkata       Mumbai Indians           2\n",
              "Mumbai        Chennai Super Kings      2\n",
              "              Rajasthan Royals         1\n",
              "dtype: int64"
            ]
          },
          "execution_count": 28,
          "metadata": {},
          "output_type": "execute_result"
        }
      ],
      "source": [
        "#IPL Finals venues and winners along with the number of wins.\n",
        "final_matches.groupby(['city','winner']).size()"
      ]
    },
    {
      "cell_type": "code",
      "execution_count": null,
      "id": "73b12974",
      "metadata": {
        "id": "73b12974",
        "outputId": "f7c917ab-c1cc-4f36-9945-b4bb89f6f6cc"
      },
      "outputs": [
        {
          "data": {
            "text/plain": [
              "Mumbai Indians           4\n",
              "Chennai Super Kings      3\n",
              "Kolkata Knight Riders    2\n",
              "Rajasthan Royals         1\n",
              "Deccan Chargers          1\n",
              "Sunrisers Hyderabad      1\n",
              "Name: winner, dtype: int64"
            ]
          },
          "execution_count": 29,
          "metadata": {},
          "output_type": "execute_result"
        }
      ],
      "source": [
        "#number of season won by teams\n",
        "final_matches[\"winner\"].value_counts()"
      ]
    },
    {
      "cell_type": "code",
      "execution_count": null,
      "id": "2adec16e",
      "metadata": {
        "id": "2adec16e",
        "outputId": "9f269a5d-344f-4c74-ee87-70ce896f33ed"
      },
      "outputs": [
        {
          "data": {
            "text/html": [
              "<div>\n",
              "<style scoped>\n",
              "    .dataframe tbody tr th:only-of-type {\n",
              "        vertical-align: middle;\n",
              "    }\n",
              "\n",
              "    .dataframe tbody tr th {\n",
              "        vertical-align: top;\n",
              "    }\n",
              "\n",
              "    .dataframe thead th {\n",
              "        text-align: right;\n",
              "    }\n",
              "</style>\n",
              "<table border=\"1\" class=\"dataframe\">\n",
              "  <thead>\n",
              "    <tr style=\"text-align: right;\">\n",
              "      <th></th>\n",
              "      <th>toss_winner</th>\n",
              "      <th>toss_decision</th>\n",
              "      <th>winner</th>\n",
              "    </tr>\n",
              "  </thead>\n",
              "  <tbody>\n",
              "    <tr>\n",
              "      <th>0</th>\n",
              "      <td>Mumbai Indians</td>\n",
              "      <td>bat</td>\n",
              "      <td>Mumbai Indians</td>\n",
              "    </tr>\n",
              "    <tr>\n",
              "      <th>1</th>\n",
              "      <td>Rajasthan Royals</td>\n",
              "      <td>field</td>\n",
              "      <td>Rajasthan Royals</td>\n",
              "    </tr>\n",
              "    <tr>\n",
              "      <th>2</th>\n",
              "      <td>Royal Challengers Bangalore</td>\n",
              "      <td>field</td>\n",
              "      <td>Deccan Chargers</td>\n",
              "    </tr>\n",
              "    <tr>\n",
              "      <th>3</th>\n",
              "      <td>Chennai Super Kings</td>\n",
              "      <td>bat</td>\n",
              "      <td>Chennai Super Kings</td>\n",
              "    </tr>\n",
              "    <tr>\n",
              "      <th>4</th>\n",
              "      <td>Chennai Super Kings</td>\n",
              "      <td>bat</td>\n",
              "      <td>Chennai Super Kings</td>\n",
              "    </tr>\n",
              "    <tr>\n",
              "      <th>5</th>\n",
              "      <td>Chennai Super Kings</td>\n",
              "      <td>bat</td>\n",
              "      <td>Kolkata Knight Riders</td>\n",
              "    </tr>\n",
              "    <tr>\n",
              "      <th>6</th>\n",
              "      <td>Mumbai Indians</td>\n",
              "      <td>bat</td>\n",
              "      <td>Mumbai Indians</td>\n",
              "    </tr>\n",
              "    <tr>\n",
              "      <th>7</th>\n",
              "      <td>Kolkata Knight Riders</td>\n",
              "      <td>field</td>\n",
              "      <td>Kolkata Knight Riders</td>\n",
              "    </tr>\n",
              "    <tr>\n",
              "      <th>8</th>\n",
              "      <td>Chennai Super Kings</td>\n",
              "      <td>field</td>\n",
              "      <td>Mumbai Indians</td>\n",
              "    </tr>\n",
              "    <tr>\n",
              "      <th>9</th>\n",
              "      <td>Sunrisers Hyderabad</td>\n",
              "      <td>bat</td>\n",
              "      <td>Sunrisers Hyderabad</td>\n",
              "    </tr>\n",
              "    <tr>\n",
              "      <th>10</th>\n",
              "      <td>Chennai Super Kings</td>\n",
              "      <td>field</td>\n",
              "      <td>Chennai Super Kings</td>\n",
              "    </tr>\n",
              "    <tr>\n",
              "      <th>11</th>\n",
              "      <td>Mumbai Indians</td>\n",
              "      <td>bat</td>\n",
              "      <td>Mumbai Indians</td>\n",
              "    </tr>\n",
              "  </tbody>\n",
              "</table>\n",
              "</div>"
            ],
            "text/plain": [
              "                    toss_winner toss_decision                 winner\n",
              "0                Mumbai Indians           bat         Mumbai Indians\n",
              "1              Rajasthan Royals         field       Rajasthan Royals\n",
              "2   Royal Challengers Bangalore         field        Deccan Chargers\n",
              "3           Chennai Super Kings           bat    Chennai Super Kings\n",
              "4           Chennai Super Kings           bat    Chennai Super Kings\n",
              "5           Chennai Super Kings           bat  Kolkata Knight Riders\n",
              "6                Mumbai Indians           bat         Mumbai Indians\n",
              "7         Kolkata Knight Riders         field  Kolkata Knight Riders\n",
              "8           Chennai Super Kings         field         Mumbai Indians\n",
              "9           Sunrisers Hyderabad           bat    Sunrisers Hyderabad\n",
              "10          Chennai Super Kings         field    Chennai Super Kings\n",
              "11               Mumbai Indians           bat         Mumbai Indians"
            ]
          },
          "execution_count": 30,
          "metadata": {},
          "output_type": "execute_result"
        }
      ],
      "source": [
        "#toss winner, toss decision, winner in final matches.\n",
        "final_matches[['toss_winner','toss_decision','winner']].reset_index(drop=True)"
      ]
    },
    {
      "cell_type": "code",
      "execution_count": null,
      "id": "d12c8038",
      "metadata": {
        "id": "d12c8038",
        "outputId": "9329fa9b-8376-43fc-e7e5-847384b4607d"
      },
      "outputs": [
        {
          "data": {
            "text/html": [
              "<div>\n",
              "<style scoped>\n",
              "    .dataframe tbody tr th:only-of-type {\n",
              "        vertical-align: middle;\n",
              "    }\n",
              "\n",
              "    .dataframe tbody tr th {\n",
              "        vertical-align: top;\n",
              "    }\n",
              "\n",
              "    .dataframe thead th {\n",
              "        text-align: right;\n",
              "    }\n",
              "</style>\n",
              "<table border=\"1\" class=\"dataframe\">\n",
              "  <thead>\n",
              "    <tr style=\"text-align: right;\">\n",
              "      <th></th>\n",
              "      <th>winner</th>\n",
              "      <th>player_of_match</th>\n",
              "    </tr>\n",
              "  </thead>\n",
              "  <tbody>\n",
              "    <tr>\n",
              "      <th>0</th>\n",
              "      <td>Mumbai Indians</td>\n",
              "      <td>KH Pandya</td>\n",
              "    </tr>\n",
              "    <tr>\n",
              "      <th>1</th>\n",
              "      <td>Rajasthan Royals</td>\n",
              "      <td>YK Pathan</td>\n",
              "    </tr>\n",
              "    <tr>\n",
              "      <th>2</th>\n",
              "      <td>Deccan Chargers</td>\n",
              "      <td>A Kumble</td>\n",
              "    </tr>\n",
              "    <tr>\n",
              "      <th>3</th>\n",
              "      <td>Chennai Super Kings</td>\n",
              "      <td>SK Raina</td>\n",
              "    </tr>\n",
              "    <tr>\n",
              "      <th>4</th>\n",
              "      <td>Chennai Super Kings</td>\n",
              "      <td>M Vijay</td>\n",
              "    </tr>\n",
              "    <tr>\n",
              "      <th>5</th>\n",
              "      <td>Kolkata Knight Riders</td>\n",
              "      <td>MS Bisla</td>\n",
              "    </tr>\n",
              "    <tr>\n",
              "      <th>6</th>\n",
              "      <td>Mumbai Indians</td>\n",
              "      <td>KA Pollard</td>\n",
              "    </tr>\n",
              "    <tr>\n",
              "      <th>7</th>\n",
              "      <td>Kolkata Knight Riders</td>\n",
              "      <td>MK Pandey</td>\n",
              "    </tr>\n",
              "    <tr>\n",
              "      <th>8</th>\n",
              "      <td>Mumbai Indians</td>\n",
              "      <td>RG Sharma</td>\n",
              "    </tr>\n",
              "    <tr>\n",
              "      <th>9</th>\n",
              "      <td>Sunrisers Hyderabad</td>\n",
              "      <td>BCJ Cutting</td>\n",
              "    </tr>\n",
              "    <tr>\n",
              "      <th>10</th>\n",
              "      <td>Chennai Super Kings</td>\n",
              "      <td>SR Watson</td>\n",
              "    </tr>\n",
              "    <tr>\n",
              "      <th>11</th>\n",
              "      <td>Mumbai Indians</td>\n",
              "      <td>JJ Bumrah</td>\n",
              "    </tr>\n",
              "  </tbody>\n",
              "</table>\n",
              "</div>"
            ],
            "text/plain": [
              "                   winner player_of_match\n",
              "0          Mumbai Indians       KH Pandya\n",
              "1        Rajasthan Royals       YK Pathan\n",
              "2         Deccan Chargers        A Kumble\n",
              "3     Chennai Super Kings        SK Raina\n",
              "4     Chennai Super Kings         M Vijay\n",
              "5   Kolkata Knight Riders        MS Bisla\n",
              "6          Mumbai Indians      KA Pollard\n",
              "7   Kolkata Knight Riders       MK Pandey\n",
              "8          Mumbai Indians       RG Sharma\n",
              "9     Sunrisers Hyderabad     BCJ Cutting\n",
              "10    Chennai Super Kings       SR Watson\n",
              "11         Mumbai Indians       JJ Bumrah"
            ]
          },
          "execution_count": 31,
          "metadata": {},
          "output_type": "execute_result"
        }
      ],
      "source": [
        "# we will print man of the match\n",
        "final_matches[['winner','player_of_match']].reset_index(drop=True)"
      ]
    },
    {
      "cell_type": "code",
      "execution_count": null,
      "id": "df92f244",
      "metadata": {
        "id": "df92f244",
        "outputId": "e3190243-831b-4024-decf-5b83c2555320"
      },
      "outputs": [
        {
          "data": {
            "text/plain": [
              "9"
            ]
          },
          "execution_count": 32,
          "metadata": {},
          "output_type": "execute_result"
        }
      ],
      "source": [
        "len(final_matches[final_matches['toss_winner']==final_matches['winner']]['winner'])"
      ]
    },
    {
      "cell_type": "code",
      "execution_count": null,
      "id": "2c3ffc75",
      "metadata": {
        "id": "2c3ffc75",
        "outputId": "8eb49c22-bae7-49d5-ec5b-2b872892316f"
      },
      "outputs": [
        {
          "data": {
            "text/html": [
              "<div>\n",
              "<style scoped>\n",
              "    .dataframe tbody tr th:only-of-type {\n",
              "        vertical-align: middle;\n",
              "    }\n",
              "\n",
              "    .dataframe tbody tr th {\n",
              "        vertical-align: top;\n",
              "    }\n",
              "\n",
              "    .dataframe thead th {\n",
              "        text-align: right;\n",
              "    }\n",
              "</style>\n",
              "<table border=\"1\" class=\"dataframe\">\n",
              "  <thead>\n",
              "    <tr style=\"text-align: right;\">\n",
              "      <th></th>\n",
              "      <th>runs by fours</th>\n",
              "      <th>fours</th>\n",
              "    </tr>\n",
              "    <tr>\n",
              "      <th>batting_team</th>\n",
              "      <th></th>\n",
              "      <th></th>\n",
              "    </tr>\n",
              "  </thead>\n",
              "  <tbody>\n",
              "    <tr>\n",
              "      <th>Chennai Super Kings</th>\n",
              "      <td>8772</td>\n",
              "      <td>2193</td>\n",
              "    </tr>\n",
              "    <tr>\n",
              "      <th>Deccan Chargers</th>\n",
              "      <td>3828</td>\n",
              "      <td>957</td>\n",
              "    </tr>\n",
              "    <tr>\n",
              "      <th>Delhi Capitals</th>\n",
              "      <td>968</td>\n",
              "      <td>242</td>\n",
              "    </tr>\n",
              "    <tr>\n",
              "      <th>Delhi Daredevils</th>\n",
              "      <td>8632</td>\n",
              "      <td>2158</td>\n",
              "    </tr>\n",
              "    <tr>\n",
              "      <th>Gujarat Lions</th>\n",
              "      <td>1840</td>\n",
              "      <td>460</td>\n",
              "    </tr>\n",
              "    <tr>\n",
              "      <th>Kings XI Punjab</th>\n",
              "      <td>9832</td>\n",
              "      <td>2458</td>\n",
              "    </tr>\n",
              "    <tr>\n",
              "      <th>Kochi Tuskers Kerala</th>\n",
              "      <td>680</td>\n",
              "      <td>170</td>\n",
              "    </tr>\n",
              "    <tr>\n",
              "      <th>Kolkata Knight Riders</th>\n",
              "      <td>9736</td>\n",
              "      <td>2434</td>\n",
              "    </tr>\n",
              "    <tr>\n",
              "      <th>Mumbai Indians</th>\n",
              "      <td>10352</td>\n",
              "      <td>2588</td>\n",
              "    </tr>\n",
              "    <tr>\n",
              "      <th>Pune Warriors</th>\n",
              "      <td>2100</td>\n",
              "      <td>525</td>\n",
              "    </tr>\n",
              "    <tr>\n",
              "      <th>Rajasthan Royals</th>\n",
              "      <td>8140</td>\n",
              "      <td>2035</td>\n",
              "    </tr>\n",
              "    <tr>\n",
              "      <th>Rising Pune Supergiant</th>\n",
              "      <td>788</td>\n",
              "      <td>197</td>\n",
              "    </tr>\n",
              "    <tr>\n",
              "      <th>Rising Pune Supergiants</th>\n",
              "      <td>684</td>\n",
              "      <td>171</td>\n",
              "    </tr>\n",
              "    <tr>\n",
              "      <th>Royal Challengers Bangalore</th>\n",
              "      <td>9440</td>\n",
              "      <td>2360</td>\n",
              "    </tr>\n",
              "    <tr>\n",
              "      <th>Sunrisers Hyderabad</th>\n",
              "      <td>5776</td>\n",
              "      <td>1444</td>\n",
              "    </tr>\n",
              "  </tbody>\n",
              "</table>\n",
              "</div>"
            ],
            "text/plain": [
              "                             runs by fours  fours\n",
              "batting_team                                     \n",
              "Chennai Super Kings                   8772   2193\n",
              "Deccan Chargers                       3828    957\n",
              "Delhi Capitals                         968    242\n",
              "Delhi Daredevils                      8632   2158\n",
              "Gujarat Lions                         1840    460\n",
              "Kings XI Punjab                       9832   2458\n",
              "Kochi Tuskers Kerala                   680    170\n",
              "Kolkata Knight Riders                 9736   2434\n",
              "Mumbai Indians                       10352   2588\n",
              "Pune Warriors                         2100    525\n",
              "Rajasthan Royals                      8140   2035\n",
              "Rising Pune Supergiant                 788    197\n",
              "Rising Pune Supergiants                684    171\n",
              "Royal Challengers Bangalore           9440   2360\n",
              "Sunrisers Hyderabad                   5776   1444"
            ]
          },
          "execution_count": 33,
          "metadata": {},
          "output_type": "execute_result"
        }
      ],
      "source": [
        "# we will print numbers of fours hit by team\n",
        "four_data=complete_data[complete_data['batsman_runs']==4]\n",
        "four_data.groupby('batting_team')['batsman_runs'].agg([('runs by fours','sum'),('fours','count')])"
      ]
    },
    {
      "cell_type": "code",
      "execution_count": null,
      "id": "60858184",
      "metadata": {
        "id": "60858184",
        "outputId": "915a921a-0383-4ceb-df6d-345cddc80c61"
      },
      "outputs": [
        {
          "data": {
            "image/png": "[encoded data removed]",
            "text/plain": [
              "<Figure size 432x288 with 1 Axes>"
            ]
          },
          "metadata": {
            "needs_background": "light"
          },
          "output_type": "display_data"
        }
      ],
      "source": [
        "# graph on four hit by players\n",
        "batsman_four=four_data.groupby('batsman')['batsman_runs'].agg([('four','count')]).reset_index().sort_values('four',ascending=0)\n",
        "ax=batsman_four.iloc[:10,:].plot('batsman','four',kind='bar',color='skyblue')\n",
        "plt.title(\"Numbers of fours hit by playes \",fontsize=20)\n",
        "plt.xticks(rotation=50)\n",
        "plt.xlabel(\"Player name\",fontsize=15)\n",
        "plt.ylabel(\"No of fours\",fontsize=15)\n",
        "plt.show()\n"
      ]
    },
    {
      "cell_type": "code",
      "execution_count": null,
      "id": "738f8610",
      "metadata": {
        "id": "738f8610",
        "outputId": "57aa9776-3deb-4ea9-9765-fee6bf4611a2"
      },
      "outputs": [
        {
          "data": {
            "image/png": "[encoded data removed]",
            "text/plain": [
              "<Figure size 432x288 with 1 Axes>"
            ]
          },
          "metadata": {
            "needs_background": "light"
          },
          "output_type": "display_data"
        }
      ],
      "source": [
        "#graph on no of four hit in each season\n",
        "ax=four_data.groupby('season')['batsman_runs'].agg([('four','count')]).reset_index().plot('season','four',kind='bar',color = 'skyblue')\n",
        "plt.title(\"Numbers of fours hit in each season \",fontsize=20)\n",
        "plt.xticks(rotation=50)\n",
        "plt.xlabel(\"season\",fontsize=15)\n",
        "plt.ylabel(\"No of fours\",fontsize=15)\n",
        "plt.show()"
      ]
    },
    {
      "cell_type": "code",
      "execution_count": null,
      "id": "c95ee4d5",
      "metadata": {
        "id": "c95ee4d5",
        "outputId": "9ba4a1c4-40f1-4567-a88f-60e2b979fe1a"
      },
      "outputs": [
        {
          "data": {
            "text/html": [
              "<div>\n",
              "<style scoped>\n",
              "    .dataframe tbody tr th:only-of-type {\n",
              "        vertical-align: middle;\n",
              "    }\n",
              "\n",
              "    .dataframe tbody tr th {\n",
              "        vertical-align: top;\n",
              "    }\n",
              "\n",
              "    .dataframe thead th {\n",
              "        text-align: right;\n",
              "    }\n",
              "</style>\n",
              "<table border=\"1\" class=\"dataframe\">\n",
              "  <thead>\n",
              "    <tr style=\"text-align: right;\">\n",
              "      <th></th>\n",
              "      <th>runs by six</th>\n",
              "      <th>sixes</th>\n",
              "    </tr>\n",
              "    <tr>\n",
              "      <th>batting_team</th>\n",
              "      <th></th>\n",
              "      <th></th>\n",
              "    </tr>\n",
              "  </thead>\n",
              "  <tbody>\n",
              "    <tr>\n",
              "      <th>Chennai Super Kings</th>\n",
              "      <td>5838</td>\n",
              "      <td>973</td>\n",
              "    </tr>\n",
              "    <tr>\n",
              "      <th>Deccan Chargers</th>\n",
              "      <td>2400</td>\n",
              "      <td>400</td>\n",
              "    </tr>\n",
              "    <tr>\n",
              "      <th>Delhi Capitals</th>\n",
              "      <td>522</td>\n",
              "      <td>87</td>\n",
              "    </tr>\n",
              "    <tr>\n",
              "      <th>Delhi Daredevils</th>\n",
              "      <td>4806</td>\n",
              "      <td>801</td>\n",
              "    </tr>\n",
              "    <tr>\n",
              "      <th>Gujarat Lions</th>\n",
              "      <td>930</td>\n",
              "      <td>155</td>\n",
              "    </tr>\n",
              "    <tr>\n",
              "      <th>Kings XI Punjab</th>\n",
              "      <td>5856</td>\n",
              "      <td>976</td>\n",
              "    </tr>\n",
              "    <tr>\n",
              "      <th>Kochi Tuskers Kerala</th>\n",
              "      <td>318</td>\n",
              "      <td>53</td>\n",
              "    </tr>\n",
              "    <tr>\n",
              "      <th>Kolkata Knight Riders</th>\n",
              "      <td>5580</td>\n",
              "      <td>930</td>\n",
              "    </tr>\n",
              "    <tr>\n",
              "      <th>Mumbai Indians</th>\n",
              "      <td>6576</td>\n",
              "      <td>1096</td>\n",
              "    </tr>\n",
              "    <tr>\n",
              "      <th>Pune Warriors</th>\n",
              "      <td>1176</td>\n",
              "      <td>196</td>\n",
              "    </tr>\n",
              "    <tr>\n",
              "      <th>Rajasthan Royals</th>\n",
              "      <td>4086</td>\n",
              "      <td>681</td>\n",
              "    </tr>\n",
              "    <tr>\n",
              "      <th>Rising Pune Supergiant</th>\n",
              "      <td>534</td>\n",
              "      <td>89</td>\n",
              "    </tr>\n",
              "    <tr>\n",
              "      <th>Rising Pune Supergiants</th>\n",
              "      <td>408</td>\n",
              "      <td>68</td>\n",
              "    </tr>\n",
              "    <tr>\n",
              "      <th>Royal Challengers Bangalore</th>\n",
              "      <td>6792</td>\n",
              "      <td>1132</td>\n",
              "    </tr>\n",
              "    <tr>\n",
              "      <th>Sunrisers Hyderabad</th>\n",
              "      <td>3198</td>\n",
              "      <td>533</td>\n",
              "    </tr>\n",
              "  </tbody>\n",
              "</table>\n",
              "</div>"
            ],
            "text/plain": [
              "                             runs by six  sixes\n",
              "batting_team                                   \n",
              "Chennai Super Kings                 5838    973\n",
              "Deccan Chargers                     2400    400\n",
              "Delhi Capitals                       522     87\n",
              "Delhi Daredevils                    4806    801\n",
              "Gujarat Lions                        930    155\n",
              "Kings XI Punjab                     5856    976\n",
              "Kochi Tuskers Kerala                 318     53\n",
              "Kolkata Knight Riders               5580    930\n",
              "Mumbai Indians                      6576   1096\n",
              "Pune Warriors                       1176    196\n",
              "Rajasthan Royals                    4086    681\n",
              "Rising Pune Supergiant               534     89\n",
              "Rising Pune Supergiants              408     68\n",
              "Royal Challengers Bangalore         6792   1132\n",
              "Sunrisers Hyderabad                 3198    533"
            ]
          },
          "execution_count": 36,
          "metadata": {},
          "output_type": "execute_result"
        }
      ],
      "source": [
        "#no of sixes hit by team\n",
        "six_data=complete_data[complete_data['batsman_runs']==6]\n",
        "six_data.groupby('batting_team')['batsman_runs'].agg([('runs by six','sum'),('sixes','count')])"
      ]
    },
    {
      "cell_type": "code",
      "execution_count": null,
      "id": "9c7de336",
      "metadata": {
        "id": "9c7de336",
        "outputId": "e8c945b0-8886-4901-9781-c14f18360924"
      },
      "outputs": [
        {
          "data": {
            "image/png": "[encoded data removed]",
            "text/plain": [
              "<Figure size 432x288 with 1 Axes>"
            ]
          },
          "metadata": {
            "needs_background": "light"
          },
          "output_type": "display_data"
        }
      ],
      "source": [
        "#graph of six hit by players\n",
        "batsman_six=six_data.groupby('batsman')['batsman_runs'].agg([('six','count')]).reset_index().sort_values('six',ascending=0)\n",
        "ax=batsman_six.iloc[:10,:].plot('batsman','six',kind='bar',color='skyblue')\n",
        "plt.title(\"Numbers of six hit by playes \",fontsize=20)\n",
        "plt.xticks(rotation=50)\n",
        "plt.xlabel(\"Player name\",fontsize=15)\n",
        "plt.ylabel(\"No of six\",fontsize=15)\n",
        "plt.show()"
      ]
    },
    {
      "cell_type": "code",
      "execution_count": null,
      "id": "8ab3b96e",
      "metadata": {
        "id": "8ab3b96e",
        "outputId": "0c6e9013-eb4d-4f5c-a428-b6af4065b635"
      },
      "outputs": [
        {
          "data": {
            "image/png": "[encoded data removed]",
            "text/plain": [
              "<Figure size 432x288 with 1 Axes>"
            ]
          },
          "metadata": {
            "needs_background": "light"
          },
          "output_type": "display_data"
        }
      ],
      "source": [
        "#graph on no of six hit in each season\n",
        "ax=six_data.groupby('season')['batsman_runs'].agg([('six','count')]).reset_index().plot('season','six',kind='bar',color = 'skyblue')\n",
        "plt.title(\"Numbers of six hit in each season \",fontsize=20)\n",
        "plt.xticks(rotation=50)\n",
        "plt.xlabel(\"season\",fontsize=15)\n",
        "plt.ylabel(\"No of fours\",fontsize=15)\n",
        "plt.show()\n"
      ]
    },
    {
      "cell_type": "code",
      "execution_count": null,
      "id": "15d64b9a",
      "metadata": {
        "id": "15d64b9a",
        "outputId": "a183b07c-cd34-4ef6-96c6-d96bb12857f9"
      },
      "outputs": [
        {
          "name": "stdout",
          "output_type": "stream",
          "text": [
            "*** Top 10 Leading Run Scorer in IPL ***\n"
          ]
        },
        {
          "data": {
            "text/html": [
              "<div>\n",
              "<style scoped>\n",
              "    .dataframe tbody tr th:only-of-type {\n",
              "        vertical-align: middle;\n",
              "    }\n",
              "\n",
              "    .dataframe tbody tr th {\n",
              "        vertical-align: top;\n",
              "    }\n",
              "\n",
              "    .dataframe thead th {\n",
              "        text-align: right;\n",
              "    }\n",
              "</style>\n",
              "<table border=\"1\" class=\"dataframe\">\n",
              "  <thead>\n",
              "    <tr style=\"text-align: right;\">\n",
              "      <th></th>\n",
              "      <th>batsman</th>\n",
              "      <th>batsman_runs</th>\n",
              "    </tr>\n",
              "  </thead>\n",
              "  <tbody>\n",
              "    <tr>\n",
              "      <th>0</th>\n",
              "      <td>V Kohli</td>\n",
              "      <td>5434</td>\n",
              "    </tr>\n",
              "    <tr>\n",
              "      <th>1</th>\n",
              "      <td>SK Raina</td>\n",
              "      <td>5415</td>\n",
              "    </tr>\n",
              "    <tr>\n",
              "      <th>2</th>\n",
              "      <td>RG Sharma</td>\n",
              "      <td>4914</td>\n",
              "    </tr>\n",
              "    <tr>\n",
              "      <th>3</th>\n",
              "      <td>DA Warner</td>\n",
              "      <td>4741</td>\n",
              "    </tr>\n",
              "    <tr>\n",
              "      <th>4</th>\n",
              "      <td>S Dhawan</td>\n",
              "      <td>4632</td>\n",
              "    </tr>\n",
              "    <tr>\n",
              "      <th>5</th>\n",
              "      <td>CH Gayle</td>\n",
              "      <td>4560</td>\n",
              "    </tr>\n",
              "    <tr>\n",
              "      <th>6</th>\n",
              "      <td>MS Dhoni</td>\n",
              "      <td>4477</td>\n",
              "    </tr>\n",
              "    <tr>\n",
              "      <th>7</th>\n",
              "      <td>RV Uthappa</td>\n",
              "      <td>4446</td>\n",
              "    </tr>\n",
              "    <tr>\n",
              "      <th>8</th>\n",
              "      <td>AB de Villiers</td>\n",
              "      <td>4428</td>\n",
              "    </tr>\n",
              "    <tr>\n",
              "      <th>9</th>\n",
              "      <td>G Gambhir</td>\n",
              "      <td>4223</td>\n",
              "    </tr>\n",
              "  </tbody>\n",
              "</table>\n",
              "</div>"
            ],
            "text/plain": [
              "          batsman  batsman_runs\n",
              "0         V Kohli          5434\n",
              "1        SK Raina          5415\n",
              "2       RG Sharma          4914\n",
              "3       DA Warner          4741\n",
              "4        S Dhawan          4632\n",
              "5        CH Gayle          4560\n",
              "6        MS Dhoni          4477\n",
              "7      RV Uthappa          4446\n",
              "8  AB de Villiers          4428\n",
              "9       G Gambhir          4223"
            ]
          },
          "execution_count": 39,
          "metadata": {},
          "output_type": "execute_result"
        }
      ],
      "source": [
        "# the top 10 leading run scorer in IPL\n",
        "batsman_score=Data.groupby('batsman')['batsman_runs'].agg(['sum']).reset_index().sort_values('sum',ascending=False).reset_index(drop=True)\n",
        "batsman_score=batsman_score.rename(columns={'sum':'batsman_runs'})\n",
        "print(\"*** Top 10 Leading Run Scorer in IPL ***\")\n",
        "batsman_score.iloc[:10,:]"
      ]
    },
    {
      "cell_type": "code",
      "execution_count": null,
      "id": "b0b0bffb",
      "metadata": {
        "id": "b0b0bffb",
        "outputId": "152d7013-e173-430b-ca03-516f4ff40664"
      },
      "outputs": [
        {
          "data": {
            "text/html": [
              "<div>\n",
              "<style scoped>\n",
              "    .dataframe tbody tr th:only-of-type {\n",
              "        vertical-align: middle;\n",
              "    }\n",
              "\n",
              "    .dataframe tbody tr th {\n",
              "        vertical-align: top;\n",
              "    }\n",
              "\n",
              "    .dataframe thead th {\n",
              "        text-align: right;\n",
              "    }\n",
              "</style>\n",
              "<table border=\"1\" class=\"dataframe\">\n",
              "  <thead>\n",
              "    <tr style=\"text-align: right;\">\n",
              "      <th></th>\n",
              "      <th>batsman</th>\n",
              "      <th>No_of Matches</th>\n",
              "    </tr>\n",
              "  </thead>\n",
              "  <tbody>\n",
              "    <tr>\n",
              "      <th>0</th>\n",
              "      <td>SK Raina</td>\n",
              "      <td>162</td>\n",
              "    </tr>\n",
              "    <tr>\n",
              "      <th>1</th>\n",
              "      <td>RG Sharma</td>\n",
              "      <td>155</td>\n",
              "    </tr>\n",
              "    <tr>\n",
              "      <th>2</th>\n",
              "      <td>RV Uthappa</td>\n",
              "      <td>153</td>\n",
              "    </tr>\n",
              "    <tr>\n",
              "      <th>3</th>\n",
              "      <td>V Kohli</td>\n",
              "      <td>143</td>\n",
              "    </tr>\n",
              "    <tr>\n",
              "      <th>4</th>\n",
              "      <td>S Dhawan</td>\n",
              "      <td>137</td>\n",
              "    </tr>\n",
              "  </tbody>\n",
              "</table>\n",
              "</div>"
            ],
            "text/plain": [
              "      batsman  No_of Matches\n",
              "0    SK Raina            162\n",
              "1   RG Sharma            155\n",
              "2  RV Uthappa            153\n",
              "3     V Kohli            143\n",
              "4    S Dhawan            137"
            ]
          },
          "execution_count": 40,
          "metadata": {},
          "output_type": "execute_result"
        }
      ],
      "source": [
        "# no of matches played by batsman\n",
        "No_Matches_player= Data[[\"match_id\",\"player_dismissed\"]]\n",
        "No_Matches_player =No_Matches_player .groupby(\"player_dismissed\")[\"match_id\"].count().reset_index().sort_values(by=\"match_id\",ascending=False).reset_index(drop=True)\n",
        "No_Matches_player.columns=[\"batsman\",\"No_of Matches\"]\n",
        "No_Matches_player .head(5)"
      ]
    },
    {
      "cell_type": "code",
      "execution_count": null,
      "id": "f656eac4",
      "metadata": {
        "id": "f656eac4",
        "outputId": "be57844e-c04b-41b8-f529-1b55f8d5ef10"
      },
      "outputs": [
        {
          "data": {
            "image/png": "[encoded data removed]",
            "text/plain": [
              "<Figure size 1296x720 with 1 Axes>"
            ]
          },
          "metadata": {
            "needs_background": "light"
          },
          "output_type": "display_data"
        }
      ],
      "source": [
        "# Dismissals in IPL\n",
        "plt.figure(figsize=(18,10))\n",
        "ax=sns.countplot(Data.dismissal_kind,color='Skyblue')\n",
        "plt.title(\"Dismissals in IPL\",fontsize=20)\n",
        "plt.xlabel(\"Dismissals kind\",fontsize=15)\n",
        "plt.ylabel(\"count\",fontsize=15)\n",
        "plt.xticks(rotation=90)\n",
        "plt.show()"
      ]
    },
    {
      "cell_type": "code",
      "execution_count": null,
      "id": "71240f08",
      "metadata": {
        "id": "71240f08"
      },
      "outputs": [],
      "source": [
        "wicket_data=Data.dropna(subset=['dismissal_kind'])\n",
        "wicket_data=wicket_data[~wicket_data['dismissal_kind'].isin(['run out','retired hurt','obstructing the field'])]"
      ]
    },
    {
      "cell_type": "code",
      "execution_count": null,
      "id": "7541390f",
      "metadata": {
        "id": "7541390f",
        "outputId": "1a03f87b-c857-4714-a559-c5c156d0422a"
      },
      "outputs": [
        {
          "data": {
            "text/html": [
              "<div>\n",
              "<style scoped>\n",
              "    .dataframe tbody tr th:only-of-type {\n",
              "        vertical-align: middle;\n",
              "    }\n",
              "\n",
              "    .dataframe tbody tr th {\n",
              "        vertical-align: top;\n",
              "    }\n",
              "\n",
              "    .dataframe thead th {\n",
              "        text-align: right;\n",
              "    }\n",
              "</style>\n",
              "<table border=\"1\" class=\"dataframe\">\n",
              "  <thead>\n",
              "    <tr style=\"text-align: right;\">\n",
              "      <th></th>\n",
              "      <th>bowler</th>\n",
              "      <th>count</th>\n",
              "    </tr>\n",
              "  </thead>\n",
              "  <tbody>\n",
              "    <tr>\n",
              "      <th>0</th>\n",
              "      <td>SL Malinga</td>\n",
              "      <td>170</td>\n",
              "    </tr>\n",
              "    <tr>\n",
              "      <th>1</th>\n",
              "      <td>A Mishra</td>\n",
              "      <td>156</td>\n",
              "    </tr>\n",
              "    <tr>\n",
              "      <th>2</th>\n",
              "      <td>Harbhajan Singh</td>\n",
              "      <td>150</td>\n",
              "    </tr>\n",
              "    <tr>\n",
              "      <th>3</th>\n",
              "      <td>PP Chawla</td>\n",
              "      <td>149</td>\n",
              "    </tr>\n",
              "    <tr>\n",
              "      <th>4</th>\n",
              "      <td>DJ Bravo</td>\n",
              "      <td>147</td>\n",
              "    </tr>\n",
              "    <tr>\n",
              "      <th>5</th>\n",
              "      <td>B Kumar</td>\n",
              "      <td>133</td>\n",
              "    </tr>\n",
              "    <tr>\n",
              "      <th>6</th>\n",
              "      <td>R Ashwin</td>\n",
              "      <td>125</td>\n",
              "    </tr>\n",
              "    <tr>\n",
              "      <th>7</th>\n",
              "      <td>SP Narine</td>\n",
              "      <td>122</td>\n",
              "    </tr>\n",
              "    <tr>\n",
              "      <th>8</th>\n",
              "      <td>UT Yadav</td>\n",
              "      <td>119</td>\n",
              "    </tr>\n",
              "    <tr>\n",
              "      <th>9</th>\n",
              "      <td>RA Jadeja</td>\n",
              "      <td>108</td>\n",
              "    </tr>\n",
              "  </tbody>\n",
              "</table>\n",
              "</div>"
            ],
            "text/plain": [
              "            bowler  count\n",
              "0       SL Malinga    170\n",
              "1         A Mishra    156\n",
              "2  Harbhajan Singh    150\n",
              "3        PP Chawla    149\n",
              "4         DJ Bravo    147\n",
              "5          B Kumar    133\n",
              "6         R Ashwin    125\n",
              "7        SP Narine    122\n",
              "8         UT Yadav    119\n",
              "9        RA Jadeja    108"
            ]
          },
          "execution_count": 43,
          "metadata": {},
          "output_type": "execute_result"
        }
      ],
      "source": [
        "#ipl most wicket taking bowlers\n",
        "wicket_data.groupby('bowler')['dismissal_kind'].agg(['count']).reset_index().sort_values('count',ascending=False).reset_index(drop=True).iloc[:10,:]"
      ]
    },
    {
      "cell_type": "markdown",
      "id": "40dbded4",
      "metadata": {
        "id": "40dbded4"
      },
      "source": [
        "## Conclusions:\n",
        "\n",
        "1. The highest number of match played in IPL season was 2013.\n",
        "\n",
        "2. The highest number of seasons are won by Mumbai Indians i.e 4 seasons out of 12.\n",
        "\n",
        "3. Teams which Bowl first has higher chances of winning then the team which bat first.\n",
        "\n",
        "4. After winning toss more teams decide to do field first.\n",
        "\n",
        "5. In finals teams which decide to do field first win the matches more then the team which bat first.\n",
        "\n",
        "6. In finals most teams after winning toss decide to do field first.\n",
        "\n",
        "7. Top player of match winning teams are CH gayle, AB de villers.\n",
        "\n",
        "8. It is interesting that out of 12 IPL finals,9 times the team that won the toss was also the winner of IPL.\n",
        "\n",
        "10. The highest number of four were hit by Shikar Dhawan.\n",
        "\n",
        "11. The highest number of six were hit by CH gayle.\n",
        "\n",
        "12. Top leading run scorer in IPL are Virat kholi, SK Raina, RG Sharma.\n",
        "\n",
        "13. The highest number of matches played by SK Raina, RG Sharma.\n",
        "\n",
        "14. Dismissals in IPL was most by Catch out .\n",
        "\n",
        "15. The IPL most wicket taken blower is SL Malinga.\n",
        "\n",
        "Thank You!"
      ]
    },
    {
      "cell_type": "code",
      "execution_count": null,
      "id": "07cb2546",
      "metadata": {
        "id": "07cb2546"
      },
      "outputs": [],
      "source": []
    }
  ],
  "metadata": {
    "kernelspec": {
      "display_name": "Python 3 (ipykernel)",
      "language": "python",
      "name": "python3"
    },
    "language_info": {
      "codemirror_mode": {
        "name": "ipython",
        "version": 3
      },
      "file_extension": ".py",
      "mimetype": "text/x-python",
      "name": "python",
      "nbconvert_exporter": "python",
      "pygments_lexer": "ipython3",
      "version": "3.9.12"
    },
    "colab": {
      "provenance": []
    }
  },
  "nbformat": 4,
  "nbformat_minor": 5
}